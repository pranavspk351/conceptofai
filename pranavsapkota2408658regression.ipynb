{
 "cells": [
  {
   "cell_type": "code",
   "execution_count": 16,
   "id": "992d113c-fa66-4c3a-a535-9dba6db6782b",
   "metadata": {},
   "outputs": [],
   "source": [
    "import pandas as pd\n",
    "import numpy as np\n",
    "import matplotlib.pyplot as plt\n",
    "from sklearn.ensemble import RandomForestRegressor\n",
    "from sklearn.model_selection import train_test_split, GridSearchCV\n",
    "from sklearn.metrics import mean_squared_error, r2_score\n",
    "from sklearn.feature_selection import RFE\n",
    "from sklearn.preprocessing import OneHotEncoder\n",
    "from sklearn.feature_selection import SelectKBest\n",
    "from sklearn.feature_selection import f_regression\n",
    "from sklearn.linear_model import Ridge"
   ]
  },
  {
   "cell_type": "code",
   "execution_count": 2,
   "id": "d0f986ed-ab98-4a67-87db-86b3c3a1977c",
   "metadata": {},
   "outputs": [],
   "source": [
    "df = pd.read_csv(\"cleaneddata.csv\")"
   ]
  },
  {
   "cell_type": "code",
   "execution_count": 3,
   "id": "23745782-8a8d-4d99-a711-c9bafa698fe1",
   "metadata": {},
   "outputs": [
    {
     "name": "stdout",
     "output_type": "stream",
     "text": [
      "<class 'pandas.core.frame.DataFrame'>\n",
      "RangeIndex: 995 entries, 0 to 994\n",
      "Data columns (total 17 columns):\n",
      " #   Column    Non-Null Count  Dtype  \n",
      "---  ------    --------------  -----  \n",
      " 0   Country   995 non-null    object \n",
      " 1   ISO3      995 non-null    object \n",
      " 2   Industry  995 non-null    object \n",
      " 3   Gas_Type  995 non-null    object \n",
      " 4   F2010     995 non-null    float64\n",
      " 5   F2011     995 non-null    float64\n",
      " 6   F2012     995 non-null    float64\n",
      " 7   F2013     995 non-null    float64\n",
      " 8   F2014     995 non-null    float64\n",
      " 9   F2015     995 non-null    float64\n",
      " 10  F2016     995 non-null    float64\n",
      " 11  F2017     995 non-null    float64\n",
      " 12  F2018     995 non-null    float64\n",
      " 13  F2019     995 non-null    float64\n",
      " 14  F2020     995 non-null    float64\n",
      " 15  F2021     995 non-null    float64\n",
      " 16  F2022     995 non-null    float64\n",
      "dtypes: float64(13), object(4)\n",
      "memory usage: 132.3+ KB\n"
     ]
    }
   ],
   "source": [
    "df.info()"
   ]
  },
  {
   "cell_type": "code",
   "execution_count": 4,
   "id": "6c58bf53-dda8-4f9c-9839-f59d9929a7de",
   "metadata": {},
   "outputs": [],
   "source": [
    "#### Model 1 : Linear Regression (from scratch)"
   ]
  },
  {
   "cell_type": "code",
   "execution_count": 5,
   "id": "85909b39-0a69-460b-9081-8390080c703a",
   "metadata": {},
   "outputs": [
    {
     "name": "stdout",
     "output_type": "stream",
     "text": [
      "[7.60165113e+00 1.49147151e+00 2.48041412e+02 1.73018987e+01\n",
      " 2.74510046e+02 5.60365792e+00 3.98222846e+00 1.24835998e+01\n",
      " 1.60751893e-01 2.02891578e+01 7.73375353e+00 3.30203813e-01\n",
      " 5.38805299e+01 1.62831524e+01 7.16799051e+01 5.51468321e-01\n",
      " 1.38390573e+00 2.42440149e+02 5.54162886e+00 2.55469438e+02\n",
      " 4.87554954e+00 3.03126207e+00 4.18535262e+01 1.43865982e+02\n",
      " 4.61496634e+01 1.10765396e+02 9.01727324e-01 1.12816048e+02\n",
      " 3.54175408e-01 1.21390089e+00 1.00555209e+01 3.62518481e-01\n",
      " 6.39457722e+01 4.99036145e+01 4.04326962e+00 4.77264017e+00\n",
      " 5.83839724e+02 4.21326683e+02 1.58019835e+02 8.81412863e+00\n",
      " 9.03477669e+00 2.73647647e-01 2.26434586e-01 2.75794288e+02\n",
      " 2.83907788e+02 2.80852695e-01 8.11208143e+00 1.77019604e+02\n",
      " 1.90449700e+01 2.09773416e+02 3.63229423e+00 1.04956989e+01\n",
      " 7.35774095e+01 4.07012070e+02 3.33316097e+02 3.97997498e-01\n",
      " 8.21010184e+00 1.64289867e+00 1.93513982e+01 8.81113650e+00\n",
      " 1.10641244e+00 9.04946823e+01 1.60212242e+02 6.06323778e+01\n",
      " 9.36461618e+00 7.45291701e+02 2.05481516e+01 2.02898245e+02\n",
      " 1.05285246e+02 1.23528844e+02 1.12592275e+01 7.26380478e+00\n",
      " 2.44133706e+00 1.80913468e+02 1.69722464e+02 9.02910128e+00\n",
      " 2.37399730e+01 1.41881025e-01 1.20589518e+02 5.87770288e+01\n",
      " 3.83497864e+01 2.74023498e+01 1.47757905e-01 2.76164625e+01\n",
      " 2.56721437e-01 2.28784605e-01 5.85275642e+02 1.50740287e-01\n",
      " 5.90165284e+02 1.58826517e+00 3.56978760e+00 4.65542844e+02\n",
      " 4.87657430e+01 5.30945826e+02 6.27796612e+00 1.07784241e+01\n",
      " 9.54111895e+01 1.39758099e-01 4.89343183e+02 3.93914644e+02\n",
      " 2.96743360e-01 2.76617498e+01 3.74776611e+00 3.16892279e+01\n",
      " 2.86314542e-01 4.12548702e-01 2.19770221e+02 2.46131909e-01\n",
      " 2.27064617e+02 4.02307986e+00 3.44433568e+00 5.25214183e+01\n",
      " 5.73070649e+02 6.38130868e+01 1.81383306e+02 1.44052359e-01\n",
      " 1.87342243e+02 2.73241105e+00 3.50162404e+00 3.95302724e+00\n",
      " 1.55324291e-01 1.14369944e+02 1.06331955e+02 4.34878900e+00\n",
      " 3.89442645e+01 6.15203389e-01 2.12311433e+02 1.09849031e+02\n",
      " 6.33220857e+01 2.65533242e+01 9.91427131e-01 2.79389444e+01\n",
      " 1.69367502e-01 6.43976836e-01 4.44234089e+02 6.63360289e-01\n",
      " 4.52668263e+02 5.29703463e+00 2.89293012e+00 4.15003422e+02\n",
      " 1.09345821e+01 4.34347309e+02 2.42201961e+00 6.40643732e+00\n",
      " 1.77892855e+01 1.47436490e-01 2.29144884e+01 5.02404357e+00\n",
      " 3.72874067e-01 1.39763436e+02 1.42049167e+01 1.55563787e+02\n",
      " 7.93588599e-01 1.22099648e+00 4.27256176e+02 8.22788167e+00\n",
      " 4.45659521e+02 7.47841103e+00 3.11620373e+00 4.22916981e+01\n",
      " 1.76115337e+02 8.08053358e+01 1.80430418e+02 4.10305618e+00\n",
      " 1.90350542e+02 4.54823944e+00 1.68797947e+00 2.49694475e+01\n",
      " 3.52157094e+00 7.19827949e+01 4.16513389e+01 2.25958882e+00\n",
      " 4.86691762e+02 1.47520553e+00 7.37326775e+02 2.58210812e+00\n",
      " 7.47311643e+02 3.00592167e+00 4.81598994e+00 2.81285574e+00\n",
      " 2.25669954e+02 1.16574608e+02 4.65658684e+02 7.62135933e+01\n",
      " 2.08760118e+02 2.03864173e-01 5.35928702e+00 7.32492259e+01\n",
      " 5.74628002e+01 2.01347343e+01 2.52279483e+01 2.55272876e+02\n",
      " 8.58292481e+01 2.93815421e+01 7.11457319e+01 7.88012471e+01\n",
      " 1.57472229e+02 6.71044563e+00 1.11530865e+02]\n",
      "\n",
      "Linear Regression from Scratch:\n",
      "Train MSE: 38.37392307810289\n",
      "Test MSE: 34.29466571683455\n",
      "Train R-squared: 0.9987539790397149\n",
      "Test R-squared: 0.9987029098368331\n"
     ]
    }
   ],
   "source": [
    "def mean_squared_error(y_true, y_pred):\n",
    "    return np.mean((y_true - y_pred) ** 2)\n",
    "\n",
    "def r2_score(y_true, y_pred):\n",
    "    ss_total = np.sum((y_true - np.mean(y_true)) ** 2)\n",
    "    ss_residual = np.sum((y_true - y_pred) ** 2)\n",
    "    return 1 - (ss_residual / ss_total)\n",
    "\n",
    "class LinearRegressionScratch:\n",
    "    def __init__(self):\n",
    "        self.theta = None  \n",
    "    \n",
    "    def fit(self, X, y):\n",
    "        # Add bias term (column of ones)\n",
    "        X_b = np.c_[np.ones((X.shape[0], 1)), X]\n",
    "        \n",
    "        # Normal Equation: theta = (X'X)^(-1) X'y\n",
    "        self.theta = np.linalg.inv(X_b.T.dot(X_b)).dot(X_b.T).dot(y)\n",
    "    \n",
    "    def predict(self, X):\n",
    "        X_b = np.c_[np.ones((X.shape[0], 1)), X]  \n",
    "        return X_b.dot(self.theta)\n",
    "\n",
    "\n",
    "\n",
    "X = df[['F2011', 'F2012', 'F2013', 'F2014', 'F2015', 'F2016', 'F2017', 'F2018', 'F2019', 'F2020', 'F2021', 'F2022']].values  \n",
    "y = df['F2010'].values\n",
    "\n",
    "\n",
    "split_idx = int(0.8 * len(X))  # 80% train, 20% test\n",
    "X_train, X_test = X[:split_idx], X[split_idx:]\n",
    "y_train, y_test = y[:split_idx], y[split_idx:]\n",
    "\n",
    "\n",
    "lr = LinearRegressionScratch()\n",
    "lr.fit(X_train, y_train)\n",
    "\n",
    "\n",
    "y_pred_train = lr.predict(X_train)\n",
    "y_pred_test = lr.predict(X_test)\n",
    "\n",
    "print(y_pred_test)\n",
    "\n",
    "\n",
    "print(\"\\nLinear Regression from Scratch:\")\n",
    "print(\"Train MSE:\", mean_squared_error(y_train, y_pred_train))\n",
    "print(\"Test MSE:\", mean_squared_error(y_test, y_pred_test))\n",
    "print(\"Train R-squared:\", r2_score(y_train, y_pred_train))\n",
    "print(\"Test R-squared:\", r2_score(y_test, y_pred_test))\n"
   ]
  },
  {
   "cell_type": "code",
   "execution_count": 6,
   "id": "a8a84960-4450-49f3-b5b5-d5a2a9f2b58a",
   "metadata": {},
   "outputs": [],
   "source": [
    "### Model 2 : Random Forest Regression"
   ]
  },
  {
   "cell_type": "code",
   "execution_count": 7,
   "id": "c32ba650-f495-433f-82f9-d57f4ab80896",
   "metadata": {},
   "outputs": [
    {
     "name": "stdout",
     "output_type": "stream",
     "text": [
      "[3.85851025e+01 8.58772071e+01 1.93145436e+02 2.70389074e+01\n",
      " 7.34538613e+01 2.58152242e+02 9.81474892e+01 2.57399901e+01\n",
      " 9.72374546e+00 1.13965209e+00 7.06933434e+00 2.72222120e+01\n",
      " 3.48921266e+00 2.42761514e+02 5.82680422e+02 2.12109522e+01\n",
      " 3.76753605e+02 1.70310669e-02 2.29224285e+01 2.84744666e+02\n",
      " 1.65981406e+02 2.23387105e+00 1.43630506e+02 8.69557847e+00\n",
      " 2.59978496e+00 1.82236771e+01 2.30157186e+02 1.95687718e+01\n",
      " 2.50642789e-01 4.29352192e-03 1.76145923e-01 1.74740865e-01\n",
      " 2.49111355e-01 5.42370828e+00 1.56062493e+02 4.17111388e-01\n",
      " 2.61183385e+02 9.53903562e-01 7.52241301e+02 1.62768904e-01\n",
      " 8.99840988e+00 3.33918105e+02 2.13475844e+02 1.12315486e+01\n",
      " 4.29169877e+00 2.03504084e+01 2.05645858e+01 4.94560586e+00\n",
      " 1.09895122e+02 1.29354573e+01 5.82228494e+00 1.79081918e-01\n",
      " 7.15294412e+01 3.34987599e+00 1.30386503e+02 3.34613168e+01\n",
      " 9.62440824e-01 1.77794875e-02 1.46905367e+02 1.52176491e-02\n",
      " 3.72507810e+02 3.53950055e+00 2.46473441e+01 1.90511363e+01\n",
      " 5.49553607e+00 2.76614143e+00 5.88192487e+02 2.32273833e+01\n",
      " 8.23065838e-01 2.15100565e-01 4.42904628e+02 1.45683297e+01\n",
      " 4.13870440e+01 3.82268361e+02 5.09349448e+00 2.70485667e+02\n",
      " 6.42136957e+01 1.82109981e+02 1.05452885e-02 3.65925430e+00\n",
      " 5.74654377e+01 4.38495735e+02 1.72121216e-03 5.49316594e-02\n",
      " 3.36038425e-01 4.48044523e+01 7.74813451e+00 5.55448430e+00\n",
      " 4.42490387e+02 6.32938559e+01 4.41252853e+00 4.42859051e+02\n",
      " 6.08832132e+01 3.76887677e+02 1.11015349e+02 1.32322458e+00\n",
      " 2.83233838e+00 2.82025656e+00 1.59602778e-17 1.16601395e+02\n",
      " 1.47272229e+02 2.10473938e+02 2.48461707e+00 3.11822048e+02\n",
      " 2.13565320e+01 3.53745756e+00 4.34509761e+02 2.75926392e+00\n",
      " 1.47819342e+02 9.49568120e+01 7.96732098e+00 4.42830610e+00\n",
      " 2.78401618e+02 1.07546120e+00 1.56185013e+02 1.58839406e-01\n",
      " 1.12269888e+01 2.17701149e+01 1.34948281e-01 4.00680853e+02\n",
      " 1.96290411e+01 7.36874639e+01 7.19472113e+01 8.74560199e+01\n",
      " 3.13283567e-01 5.07514424e+00 7.08919974e+01 6.00741224e+01\n",
      " 2.63695258e+01 2.68093225e+01 2.67204419e+02 4.18939589e+02\n",
      " 8.65410805e-01 7.31971441e+01 1.41911192e+01 1.16588694e-02\n",
      " 7.90130360e-04 1.13153468e-01 3.32656624e+00 1.50656169e+00\n",
      " 1.96309359e+01 1.16738806e+01 6.17704630e+01 4.06470561e+01\n",
      " 1.05377014e+01 9.59793371e+00 1.27080813e+00 1.10208207e+00\n",
      " 2.28944778e+01 7.74616211e+00 2.84369535e+01 8.61656811e+00\n",
      " 3.00848577e+00 1.00679587e+00 2.16032111e-01 3.54480835e+00\n",
      " 3.90885384e+01 3.16655953e+02 2.85097790e+01 1.59602778e-17\n",
      " 3.87209223e+02 1.45654265e+02 3.82131967e+02 4.51113800e+02\n",
      " 2.95479424e+02 2.87473101e+01 5.14817958e+01 1.98435734e+02\n",
      " 5.54346151e-02 9.54674153e+01 4.50836310e+01 1.08491156e+02\n",
      " 5.15269676e+01 1.18508635e+02 8.25223135e+00 8.66185946e+00\n",
      " 1.76252285e+02 1.59944256e+02 7.50696532e+02 2.86704970e+01\n",
      " 4.57144995e+00 7.51026844e-01 1.85074087e+01 1.29789878e+02\n",
      " 2.76660129e+00 2.59508916e+02 1.97368086e+01 2.72926838e+02\n",
      " 7.85600217e-02 2.74432674e+02 3.07878565e+02 9.64459214e+01\n",
      " 1.23014973e+01 1.02022276e+01 8.49418645e+00 7.93754705e+02\n",
      " 3.40683861e+01 9.40487632e+01 8.25849816e-01]\n",
      "\n",
      "Random Forest Regression:\n",
      "Train MSE: 11.642824609402243\n",
      "Test MSE: 47.29050279068271\n",
      "Train R-squared: 0.9996305844701803\n",
      "Test R-squared: 0.9979877770300751\n"
     ]
    }
   ],
   "source": [
    "\n",
    "X = df[['F2011', 'F2012', 'F2013', 'F2014', 'F2015', 'F2016', 'F2017', 'F2018', 'F2019', 'F2020', 'F2021', 'F2022']].values  \n",
    "y = df['F2010'].values\n",
    "\n",
    "\n",
    "X_train, X_test, y_train, y_test = train_test_split(X, y, test_size=0.2, random_state=42)\n",
    "\n",
    "\n",
    "rf_regressor = RandomForestRegressor(n_estimators=100, random_state=42)\n",
    "rf_regressor.fit(X_train, y_train)\n",
    "\n",
    "\n",
    "y_pred_train = rf_regressor.predict(X_train)\n",
    "y_pred_test = rf_regressor.predict(X_test)\n",
    "\n",
    "print(y_pred_test)\n",
    "\n",
    "\n",
    "print(\"\\nRandom Forest Regression:\")\n",
    "print(\"Train MSE:\", mean_squared_error(y_train, y_pred_train))\n",
    "print(\"Test MSE:\", mean_squared_error(y_test, y_pred_test))\n",
    "print(\"Train R-squared:\", r2_score(y_train, y_pred_train))\n",
    "print(\"Test R-squared:\", r2_score(y_test, y_pred_test))"
   ]
  },
  {
   "cell_type": "code",
   "execution_count": 8,
   "id": "4e282624-8d31-4f4b-87e2-37ac7340fa71",
   "metadata": {},
   "outputs": [],
   "source": [
    "### Model 3 : Ridge Regression"
   ]
  },
  {
   "cell_type": "code",
   "execution_count": 9,
   "id": "33a2a07a-4641-40b9-b65f-4113f5670bc5",
   "metadata": {},
   "outputs": [
    {
     "name": "stdout",
     "output_type": "stream",
     "text": [
      "[3.92202059e+01 8.04352980e+01 1.96850744e+02 2.69031640e+01\n",
      " 7.72286889e+01 2.44936415e+02 9.06447020e+01 2.44662510e+01\n",
      " 9.99776462e+00 1.46579702e+00 7.33760855e+00 2.71252272e+01\n",
      " 3.79720740e+00 2.47060416e+02 5.82420813e+02 2.16591021e+01\n",
      " 3.70652910e+02 3.19944065e-01 2.23534775e+01 2.95122721e+02\n",
      " 1.60348651e+02 2.51303816e+00 1.42050827e+02 9.36849380e+00\n",
      " 2.93127074e+00 1.89247739e+01 2.32933331e+02 1.93511491e+01\n",
      " 5.34867482e-01 3.08405692e-01 4.85320339e-01 4.86086822e-01\n",
      " 5.55095461e-01 5.04905481e+00 1.60574816e+02 7.10877824e-01\n",
      " 2.66787408e+02 1.25934616e+00 7.44704611e+02 4.63235118e-01\n",
      " 9.32380133e+00 3.56754179e+02 2.14889404e+02 1.17460618e+01\n",
      " 4.55339521e+00 2.11870594e+01 2.17275982e+01 5.24782053e+00\n",
      " 1.11869047e+02 1.30997007e+01 5.63949588e+00 5.03760025e-01\n",
      " 7.15543477e+01 3.64591453e+00 1.28092800e+02 3.28529368e+01\n",
      " 1.26513418e+00 3.27025033e-01 1.44268087e+02 3.20117582e-01\n",
      " 3.82147007e+02 3.76161597e+00 2.42661240e+01 1.98548363e+01\n",
      " 5.93095496e+00 3.01510351e+00 5.80885800e+02 2.38392315e+01\n",
      " 9.24924842e-01 5.33397393e-01 4.38246558e+02 1.49259518e+01\n",
      " 4.28667483e+01 3.76614754e+02 5.40894180e+00 2.63684692e+02\n",
      " 6.34632739e+01 1.85032088e+02 3.15012988e-01 4.05657367e+00\n",
      " 5.84170959e+01 4.33306642e+02 3.05420327e-01 3.67345900e-01\n",
      " 6.92361710e-01 4.41917727e+01 7.93784590e+00 5.59748553e+00\n",
      " 4.29433838e+02 6.43537414e+01 4.25384305e+00 4.42511394e+02\n",
      " 6.29101928e+01 3.84673684e+02 1.10901475e+02 1.63321401e+00\n",
      " 3.17602776e+00 3.27682334e+00 3.04088410e-01 1.21242396e+02\n",
      " 1.55733912e+02 2.09288181e+02 2.64542059e+00 3.01262181e+02\n",
      " 2.21819223e+01 3.79774824e+00 4.37317554e+02 3.21502729e+00\n",
      " 1.50304839e+02 8.99868322e+01 9.32940568e+00 4.50068335e+00\n",
      " 2.84016554e+02 1.21892649e+00 1.57314520e+02 4.60452664e-01\n",
      " 1.20592793e+01 2.50834777e+01 4.38732240e-01 4.17125924e+02\n",
      " 1.93113722e+01 7.67082142e+01 7.10579130e+01 8.38306701e+01\n",
      " 6.20741626e-01 5.52166183e+00 7.05138189e+01 6.00651000e+01\n",
      " 2.68824588e+01 2.57835514e+01 2.57193398e+02 4.15896591e+02\n",
      " 1.22040771e+00 7.66998256e+01 1.51251493e+01 3.15374965e-01\n",
      " 3.05148467e-01 4.09189678e-01 3.46101743e+00 1.72135350e+00\n",
      " 2.00946785e+01 1.24514216e+01 6.07913426e+01 4.11306099e+01\n",
      " 1.10390339e+01 1.03251248e+01 1.61853616e+00 1.38254226e+00\n",
      " 2.21741431e+01 6.74178580e+00 2.93329907e+01 8.34581285e+00\n",
      " 2.97974131e+00 1.39794559e+00 5.16825721e-01 3.60309854e+00\n",
      " 3.95924492e+01 2.97511020e+02 2.90699436e+01 3.04088410e-01\n",
      " 3.92936534e+02 1.44235877e+02 3.67197769e+02 4.35010943e+02\n",
      " 2.65644368e+02 2.89306380e+01 5.11866549e+01 2.03777755e+02\n",
      " 3.68242542e-01 9.74319654e+01 4.64687483e+01 1.05741395e+02\n",
      " 5.32548438e+01 1.26726293e+02 9.03949701e+00 9.33005673e+00\n",
      " 1.75347822e+02 1.61431456e+02 7.28306487e+02 2.91673975e+01\n",
      " 4.75104767e+00 1.06309698e+00 1.85106257e+01 1.23058093e+02\n",
      " 2.68139350e+00 2.55067440e+02 2.03306445e+01 2.72442509e+02\n",
      " 3.76286262e-01 2.52252602e+02 3.08260992e+02 1.03677029e+02\n",
      " 1.23426197e+01 1.07845492e+01 8.68339978e+00 7.70867438e+02\n",
      " 3.21978768e+01 9.53565082e+01 7.45485117e-01]\n",
      "\n",
      "Ridge Regression:\n",
      "Train MSE: 37.31168873774563\n",
      "Test MSE: 31.474917844533934\n",
      "Train R-squared: 0.9988161363134861\n",
      "Test R-squared: 0.9986607342082278\n"
     ]
    }
   ],
   "source": [
    "\n",
    "X = df[['F2011', 'F2012', 'F2013', 'F2014', 'F2015', 'F2016', 'F2017', 'F2018', 'F2019', 'F2020', 'F2021', 'F2022']].values  \n",
    "y = df['F2010'].values\n",
    "\n",
    "\n",
    "X_train, X_test, y_train, y_test = train_test_split(X, y, test_size=0.2, random_state=42)\n",
    "\n",
    "\n",
    "ridge_regressor = Ridge(alpha=1.0)\n",
    "ridge_regressor.fit(X_train, y_train)\n",
    "\n",
    "\n",
    "y_pred_train = ridge_regressor.predict(X_train)\n",
    "y_pred_test = ridge_regressor.predict(X_test)\n",
    "\n",
    "print(y_pred_test)\n",
    "print(\"\\nRidge Regression:\")\n",
    "print(\"Train MSE:\", mean_squared_error(y_train, y_pred_train))\n",
    "print(\"Test MSE:\", mean_squared_error(y_test, y_pred_test))\n",
    "print(\"Train R-squared:\", r2_score(y_train, y_pred_train))\n",
    "print(\"Test R-squared:\", r2_score(y_test, y_pred_test))\n"
   ]
  },
  {
   "cell_type": "code",
   "execution_count": 12,
   "id": "d3231cfa-d869-43d3-91d6-62520afe9426",
   "metadata": {},
   "outputs": [],
   "source": [
    "### Hyper-parameter optimization "
   ]
  },
  {
   "cell_type": "code",
   "execution_count": 13,
   "id": "64b860e5-271c-415c-a059-3f459d5f8675",
   "metadata": {},
   "outputs": [
    {
     "name": "stdout",
     "output_type": "stream",
     "text": [
      "Fitting 5 folds for each of 9 candidates, totalling 45 fits\n",
      "Best Hyperparameters for Random Forest: {'max_depth': 20, 'n_estimators': 50}\n"
     ]
    }
   ],
   "source": [
    "# Task 4: Hyperparameter Optimization with Cross-Validation\n",
    "param_grid = {\n",
    "    'n_estimators': [50, 100, 200],\n",
    "    'max_depth': [10, 20, 30]\n",
    "}\n",
    "\n",
    "grid_search = GridSearchCV(estimator=rf_regressor, param_grid=param_grid, scoring='r2', cv=5, verbose=1)\n",
    "grid_search.fit(X_train, y_train)\n",
    "\n",
    "print(\"Best Hyperparameters for Random Forest:\", grid_search.best_params_)\n"
   ]
  },
  {
   "cell_type": "code",
   "execution_count": 14,
   "id": "be051724-6efa-44b4-9e98-006444abc175",
   "metadata": {},
   "outputs": [],
   "source": [
    "### Feature Selection"
   ]
  },
  {
   "cell_type": "code",
   "execution_count": 18,
   "id": "078661a2-435a-414e-bc49-02781a68e7d7",
   "metadata": {
    "scrolled": true
   },
   "outputs": [
    {
     "name": "stdout",
     "output_type": "stream",
     "text": [
      "Selected Features: ['F2011', 'F2012', 'F2013', 'F2014', 'F2015']\n"
     ]
    }
   ],
   "source": [
    "# Prepare X and y as per your dataset\n",
    "X = df[['F2011', 'F2012', 'F2013', 'F2014', 'F2015', 'F2016', 'F2017', 'F2018', 'F2019', 'F2020', 'F2021', 'F2022']].values\n",
    "y = df['F2010'].values\n",
    "\n",
    "# Split the data into training and testing sets\n",
    "X_train, X_test, y_train, y_test = train_test_split(X, y, test_size=0.2, random_state=42)\n",
    "\n",
    "# Apply SelectKBest for feature selection using f_regression\n",
    "feature_selector = SelectKBest(score_func=f_regression, k=5)\n",
    "\n",
    "# Fit the model to the training data and transform the training set\n",
    "X_train_selected = feature_selector.fit_transform(X_train, y_train)\n",
    "\n",
    "# Transform the test data using the fitted selector\n",
    "X_test_selected = feature_selector.transform(X_test)\n",
    "\n",
    "# Get the indices of the selected features\n",
    "selected_features_indices = feature_selector.get_support(indices=True)\n",
    "\n",
    "# Get the names of the selected features\n",
    "selected_features = ['F2011', 'F2012', 'F2013', 'F2014', 'F2015', 'F2016', 'F2017', 'F2018', 'F2019', 'F2020', 'F2021', 'F2022']\n",
    "selected_features = [selected_features[i] for i in selected_features_indices]\n",
    "\n",
    "# Print the selected features\n",
    "print(\"Selected Features:\", selected_features)\n"
   ]
  },
  {
   "cell_type": "code",
   "execution_count": 19,
   "id": "434b7a8b-6b54-44ec-84f3-8162aaa6ed91",
   "metadata": {},
   "outputs": [
    {
     "name": "stdout",
     "output_type": "stream",
     "text": [
      "Final Model Performance:\n",
      "Test MSE: 51.33572507516754\n",
      "Test R-squared: 0.9978156517888755\n"
     ]
    }
   ],
   "source": [
    "rf_final_model = RandomForestRegressor(\n",
    "    n_estimators=grid_search.best_params_['n_estimators'],\n",
    "    max_depth=grid_search.best_params_['max_depth'],\n",
    "    random_state=42\n",
    ")\n",
    "\n",
    "rf_final_model.fit(X_train_selected, y_train)\n",
    "final_pred = rf_final_model.predict(X_test_selected)\n",
    "\n",
    "print(\"Final Model Performance:\")\n",
    "print(\"Test MSE:\", mean_squared_error(y_test, final_pred))\n",
    "print(\"Test R-squared:\", r2_score(y_test, final_pred))"
   ]
  },
  {
   "cell_type": "code",
   "execution_count": null,
   "id": "93dd42f8-11ea-44e8-9f6a-cb5e4d41a3eb",
   "metadata": {},
   "outputs": [],
   "source": []
  }
 ],
 "metadata": {
  "kernelspec": {
   "display_name": "Python 3 (ipykernel)",
   "language": "python",
   "name": "python3"
  },
  "language_info": {
   "codemirror_mode": {
    "name": "ipython",
    "version": 3
   },
   "file_extension": ".py",
   "mimetype": "text/x-python",
   "name": "python",
   "nbconvert_exporter": "python",
   "pygments_lexer": "ipython3",
   "version": "3.13.2"
  }
 },
 "nbformat": 4,
 "nbformat_minor": 5
}
