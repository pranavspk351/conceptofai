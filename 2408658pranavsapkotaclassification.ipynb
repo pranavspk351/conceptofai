{
 "cells": [
  {
   "cell_type": "code",
   "execution_count": 111,
   "id": "5a302576-85d6-419e-8b79-da1cacf7307b",
   "metadata": {},
   "outputs": [],
   "source": [
    "import pandas as pd\n",
    "import numpy as np\n",
    "import matplotlib.pyplot as plt\n",
    "import seaborn as sns\n",
    "from sklearn.metrics import accuracy_score, precision_score, recall_score, f1_score\n",
    "from sklearn.model_selection import train_test_split\n",
    "from sklearn.metrics import accuracy_score, classification_report, confusion_matrix\n",
    "from sklearn.feature_selection import SelectKBest, f_classif\n",
    "from sklearn.linear_model import LogisticRegression\n",
    "from sklearn.ensemble import RandomForestClassifier\n",
    "from sklearn.model_selection import GridSearchCV\n",
    "from sklearn.model_selection import train_test_split, GridSearchCV, cross_val_score\n",
    "from sklearn.preprocessing import StandardScaler, OneHotEncoder\n",
    "from sklearn.linear_model import LinearRegression, Ridge, Lasso\n",
    "from sklearn.metrics import mean_squared_error, mean_absolute_error, r2_score\n",
    "from sklearn.feature_selection import SelectKBest, f_regression\n",
    "from sklearn.compose import ColumnTransformer"
   ]
  },
  {
   "cell_type": "code",
   "execution_count": 112,
   "id": "fc711e30-b8ed-4dfc-b304-be4c2514d230",
   "metadata": {},
   "outputs": [
    {
     "name": "stdout",
     "output_type": "stream",
     "text": [
      "<class 'pandas.core.frame.DataFrame'>\n",
      "RangeIndex: 995 entries, 0 to 994\n",
      "Data columns (total 17 columns):\n",
      " #   Column    Non-Null Count  Dtype  \n",
      "---  ------    --------------  -----  \n",
      " 0   Country   995 non-null    object \n",
      " 1   ISO3      995 non-null    object \n",
      " 2   Industry  995 non-null    object \n",
      " 3   Gas_Type  995 non-null    object \n",
      " 4   F2010     995 non-null    float64\n",
      " 5   F2011     995 non-null    float64\n",
      " 6   F2012     995 non-null    float64\n",
      " 7   F2013     995 non-null    float64\n",
      " 8   F2014     995 non-null    float64\n",
      " 9   F2015     995 non-null    float64\n",
      " 10  F2016     995 non-null    float64\n",
      " 11  F2017     995 non-null    float64\n",
      " 12  F2018     995 non-null    float64\n",
      " 13  F2019     995 non-null    float64\n",
      " 14  F2020     995 non-null    float64\n",
      " 15  F2021     995 non-null    float64\n",
      " 16  F2022     995 non-null    float64\n",
      "dtypes: float64(13), object(4)\n",
      "memory usage: 132.3+ KB\n"
     ]
    }
   ],
   "source": [
    "df = pd.read_csv(\"cleaneddata.csv\")\n",
    "df.info()"
   ]
  },
  {
   "cell_type": "code",
   "execution_count": 113,
   "id": "4c210490-86cb-4d6b-afc6-a7880358e646",
   "metadata": {},
   "outputs": [
    {
     "name": "stdout",
     "output_type": "stream",
     "text": [
      "Accuracy: 0.875\n"
     ]
    },
    {
     "data": {
      "image/png": "[encoded data removed]",
      "text/plain": [
       "<Figure size 640x480 with 1 Axes>"
      ]
     },
     "metadata": {},
     "output_type": "display_data"
    }
   ],
   "source": [
    "\n",
    "\n",
    "class GradientDescentClassifier:\n",
    "    def __init__(self, learning_rate=0.01, n_iters=1000, regularization=None, lambda_param=0.01):\n",
    "        self.lr = learning_rate\n",
    "        self.n_iters = n_iters\n",
    "        self.weights = None\n",
    "        self.bias = None\n",
    "        self.regularization = regularization  # 'l1' or 'l2' or None\n",
    "        self.lambda_param = lambda_param\n",
    "        self.losses = [] # To store loss values for plotting\n",
    "\n",
    "    def fit(self, X, y):\n",
    "        n_samples, n_features = X.shape\n",
    "\n",
    "        \n",
    "        self.weights = np.zeros(n_features)\n",
    "        self.bias = 0\n",
    "\n",
    "        \n",
    "        for _ in range(self.n_iters):\n",
    "            linear_output = np.dot(X, self.weights) + self.bias\n",
    "            y_predicted = self._sigmoid(linear_output)\n",
    "\n",
    "            \n",
    "            dw = (1 / n_samples) * np.dot(X.T, (y_predicted - y))\n",
    "            db = (1 / n_samples) * np.sum(y_predicted - y)\n",
    "\n",
    "            # Regularization (L1 or L2)\n",
    "            if self.regularization == 'l1':\n",
    "                dw += self.lambda_param * np.sign(self.weights) / n_samples  # L1\n",
    "            elif self.regularization == 'l2':\n",
    "                dw += self.lambda_param * self.weights / n_samples       # L2\n",
    "            self.weights -= self.lr * dw\n",
    "            self.bias -= self.lr * db\n",
    "            loss = self._loss(y, y_predicted)\n",
    "            self.losses.append(loss)\n",
    "\n",
    "\n",
    "    def predict(self, X):\n",
    "        linear_output = np.dot(X, self.weights) + self.bias\n",
    "        y_predicted = self._sigmoid(linear_output)\n",
    "        y_predicted_cls = [1 if y > 0.5 else 0 for y in y_predicted]\n",
    "        return np.array(y_predicted_cls)\n",
    "\n",
    "    def _sigmoid(self, x):\n",
    "        return 1 / (1 + np.exp(-x))\n",
    "\n",
    "    def _loss(self, y, y_pred):  # Binary cross-entropy loss\n",
    "        n_samples = len(y)\n",
    "        loss = -np.mean(y * np.log(y_pred) + (1 - y) * np.log(1 - y_pred))\n",
    "        return loss\n",
    "from sklearn.datasets import make_classification\n",
    "X, y = make_classification(n_samples=200, n_features=2, n_informative=2, n_redundant=0, \n",
    "                           n_classes=2, n_clusters_per_class=1, random_state=42)\n",
    "scaler = StandardScaler()\n",
    "X = scaler.fit_transform(X)\n",
    "X_train, X_test, y_train, y_test = train_test_split(X, y, test_size=0.2, random_state=42)\n",
    "classifier = GradientDescentClassifier(learning_rate=0.1, n_iters=2000, regularization='l2')\n",
    "classifier.fit(X_train, y_train)\n",
    "y_pred = classifier.predict(X_test)\n",
    "from sklearn.metrics import accuracy_score\n",
    "accuracy = accuracy_score(y_test, y_pred)\n",
    "print(f\"Accuracy: {accuracy}\")\n",
    "plt.plot(classifier.losses)\n",
    "plt.xlabel(\"Iterations\")\n",
    "plt.ylabel(\"Loss\")\n",
    "plt.title(\"Gradient Descent Convergence\")\n",
    "plt.show()"
   ]
  },
  {
   "cell_type": "code",
   "execution_count": 114,
   "id": "e5b99ef2-c748-407d-857a-13e363ede7c7",
   "metadata": {},
   "outputs": [
    {
     "data": {
      "image/png": "[encoded data removed]",
      "text/plain": [
       "<Figure size 800x600 with 1 Axes>"
      ]
     },
     "metadata": {},
     "output_type": "display_data"
    }
   ],
   "source": [
    "plt.figure(figsize=(8, 6))\n",
    "sns.histplot(df['F2013'], kde=True, bins=20, color='skyblue', edgecolor='black')\n",
    "plt.title('Histogram with KDE Curve of F2013 Scores')\n",
    "plt.xlabel('F2013')\n",
    "plt.ylabel('Frequency')\n",
    "plt.show()"
   ]
  },
  {
   "cell_type": "code",
   "execution_count": 115,
   "id": "9e876804-fa08-4b5c-b1e8-cb83d1afcd1e",
   "metadata": {},
   "outputs": [],
   "source": [
    "# Set the threshold for binary classification (e.g., 190 for F2020)\n",
    "threshold = 190\n",
    "df['Target'] = (df['F2020'] >= threshold).astype(int)\n",
    "\n",
    "X = df[['F2010', 'F2011', 'F2012', 'F2013', 'F2014', 'F2015', 'F2016', 'F2017', 'F2018', 'F2019', 'F2020', 'F2021', 'F2022']].values\n",
    "\n",
    "y = df['Target'].values"
   ]
  },
  {
   "cell_type": "code",
   "execution_count": 131,
   "id": "abffb594-0e99-4ba2-8932-ef068f10c14d",
   "metadata": {},
   "outputs": [
    {
     "name": "stdout",
     "output_type": "stream",
     "text": [
      "Logistic Regression Model from Scratch:\n",
      "{'Accuracy': 0.825, 'Precision': 0.8877551020408163, 'Recall': 0.7837837837837838, 'F1 Score': 0.8325358851674641}\n"
     ]
    }
   ],
   "source": [
    "import numpy as np\n",
    "from sklearn.metrics import accuracy_score, precision_score, recall_score, f1_score\n",
    "from sklearn.model_selection import train_test_split\n",
    "from sklearn.datasets import make_classification\n",
    "\n",
    "def sigmoid(z):\n",
    "    return 1 / (1 + np.exp(-z))\n",
    "\n",
    "def initialize_weights(n_features):\n",
    "    return np.zeros(n_features), 0\n",
    "\n",
    "def compute_loss(y, y_pred):\n",
    "    m = y.shape[0]\n",
    "    return - (1 / m) * np.sum(y * np.log(y_pred) + (1 - y) * np.log(1 - y_pred))\n",
    "\n",
    "def compute_gradients(X, y, y_pred):\n",
    "    m = X.shape[0]\n",
    "    dw = (1 / m) * np.dot(X.T, (y_pred - y))\n",
    "    db = (1 / m) * np.sum(y_pred - y)\n",
    "    return dw, db\n",
    "    \n",
    "def update_weights(weights, bias, dw, db, learning_rate):\n",
    "    weights -= learning_rate * dw\n",
    "    bias -= learning_rate * db\n",
    "    return weights, bias\n",
    "\n",
    "def train_logistic_regression(X, y, learning_rate=0.01, epochs=1000):\n",
    "    n_features = X.shape[1]\n",
    "    weights, bias = initialize_weights(n_features)\n",
    "    for _ in range(epochs):\n",
    "        linear_model = np.dot(X, weights) + bias\n",
    "        y_pred = sigmoid(linear_model)\n",
    "        dw, db = compute_gradients(X, y, y_pred)\n",
    "        weights, bias = update_weights(weights, bias, dw, db, learning_rate)\n",
    "    return weights, bias\n",
    "\n",
    "def predict(X, weights, bias):\n",
    "    linear_model = np.dot(X, weights) + bias\n",
    "    y_pred = sigmoid(linear_model)\n",
    "    return (y_pred >= 0.5).astype(int)\n",
    "\n",
    "def evaluate_model(y_true, y_pred):\n",
    "    return {\n",
    "        \"Accuracy\": accuracy_score(y_true, y_pred),\n",
    "        \"Precision\": precision_score(y_true, y_pred),\n",
    "        \"Recall\": recall_score(y_true, y_pred),\n",
    "        \"F1 Score\": f1_score(y_true, y_pred)\n",
    "    }\n",
    "\n",
    "# Generate dataset\n",
    "X, y = make_classification(n_samples=1000, n_features=10, random_state=42)\n",
    "X_train, X_test, y_train, y_test = train_test_split(X, y, test_size=0.2, random_state=42)\n",
    "\n",
    "# Train model\n",
    "weights, bias = train_logistic_regression(X_train, y_train)\n",
    "\n",
    "# Predict\n",
    "y_pred = predict(X_test, weights, bias)\n",
    "\n",
    "# Evaluate\n",
    "metrics = evaluate_model(y_test, y_pred)\n",
    "print(\"Logistic Regression Model from Scratch:\")\n",
    "print(metrics)\n"
   ]
  },
  {
   "cell_type": "code",
   "execution_count": null,
   "id": "8590718e-d101-41ad-94f4-41bd502a39a1",
   "metadata": {},
   "outputs": [],
   "source": []
  },
  {
   "cell_type": "code",
   "execution_count": 132,
   "id": "64326ac4-dc3b-416f-9e5c-bdafa418802f",
   "metadata": {},
   "outputs": [],
   "source": [
    "# Train the model\n",
    "weights, bias = train_logistic_regression(X, y, learning_rate=0.01, epochs=1000)\n",
    "\n",
    "# Make predictions\n",
    "y_pred = predict(X, weights, bias)\n"
   ]
  },
  {
   "cell_type": "code",
   "execution_count": 138,
   "id": "9524dc43-1e35-4511-929c-c2cd2874415b",
   "metadata": {},
   "outputs": [],
   "source": [
    "\n",
    "import pandas as pd\n",
    "from sklearn.model_selection import train_test_split\n",
    "from sklearn.preprocessing import StandardScaler\n",
    "\n",
    "# Feature Engineering and Preprocessing\n",
    "X = df.drop(columns=['Target', 'ISO3'])  # Drop Target as it's the label, ISO3 as it might be irrelevant\n",
    "y = df['Target']\n",
    "\n",
    "# Convert categorical variables using one-hot encoding\n",
    "X = pd.get_dummies(X, columns=['Country', 'Industry', 'Gas_Type'], drop_first=True)\n",
    "\n",
    "# Train-Test Split\n",
    "X_train, X_test, y_train, y_test = train_test_split(X, y, test_size=0.2, random_state=42)\n",
    "\n",
    "# Standardize numerical features\n",
    "scaler = StandardScaler()\n",
    "X_train = scaler.fit_transform(X_train)\n",
    "X_test = scaler.transform(X_test)\n"
   ]
  },
  {
   "cell_type": "code",
   "execution_count": 135,
   "id": "351607d5-e964-418b-9b76-f63d540d2581",
   "metadata": {},
   "outputs": [
    {
     "name": "stdout",
     "output_type": "stream",
     "text": [
      "Logistic Regression Performance:\n",
      "Accuracy: 0.9899497487437185\n",
      "Report:\n",
      "               precision    recall  f1-score   support\n",
      "\n",
      "           0       1.00      0.99      0.99       161\n",
      "           1       0.95      1.00      0.97        38\n",
      "\n",
      "    accuracy                           0.99       199\n",
      "   macro avg       0.97      0.99      0.98       199\n",
      "weighted avg       0.99      0.99      0.99       199\n",
      "\n",
      "Confusion Matrix:\n",
      " [[159   2]\n",
      " [  0  38]]\n"
     ]
    }
   ],
   "source": [
    "# Logistic Regression\n",
    "log_reg = LogisticRegression()\n",
    "log_reg.fit(X_train, y_train)\n",
    "y_pred_log = log_reg.predict(X_test)\n",
    "\n",
    "print(\"Logistic Regression Performance:\")\n",
    "print(\"Accuracy:\", accuracy_score(y_test, y_pred_log))\n",
    "print(\"Report:\\n\", classification_report(y_test, y_pred_log))\n",
    "print(\"Confusion Matrix:\\n\", confusion_matrix(y_test, y_pred_log))\n"
   ]
  },
  {
   "cell_type": "code",
   "execution_count": 136,
   "id": "bb246eca-a2d8-445a-8301-b9cd68932931",
   "metadata": {},
   "outputs": [
    {
     "name": "stdout",
     "output_type": "stream",
     "text": [
      "Random Forest Performance:\n",
      "Accuracy: 0.9949748743718593\n",
      "Report:\n",
      "               precision    recall  f1-score   support\n",
      "\n",
      "           0       1.00      0.99      1.00       161\n",
      "           1       0.97      1.00      0.99        38\n",
      "\n",
      "    accuracy                           0.99       199\n",
      "   macro avg       0.99      1.00      0.99       199\n",
      "weighted avg       1.00      0.99      0.99       199\n",
      "\n"
     ]
    }
   ],
   "source": [
    "# Random Forest Regressor\n",
    "rf_model = RandomForestClassifier(random_state=42)\n",
    "rf_model.fit(X_train, y_train)\n",
    "y_pred_rf = rf_model.predict(X_test)\n",
    "\n",
    "print(\"Random Forest Performance:\")\n",
    "print(\"Accuracy:\", accuracy_score(y_test, y_pred_rf))\n",
    "print(\"Report:\\n\", classification_report(y_test, y_pred_rf))"
   ]
  },
  {
   "cell_type": "code",
   "execution_count": 120,
   "id": "e47e259f-eed7-4e18-8643-f4c3d24e59ff",
   "metadata": {},
   "outputs": [
    {
     "name": "stdout",
     "output_type": "stream",
     "text": [
      "Best Parameters: {'max_depth': 10, 'n_estimators': 200}\n"
     ]
    }
   ],
   "source": [
    "### Hyperparameter Optimzation with Cross-validation ###\n",
    "from sklearn.model_selection import GridSearchCV\n",
    "\n",
    "# Set the hyperparameters for RandomForest\n",
    "param_grid = {'n_estimators': [50, 100, 200], 'max_depth': [5, 10, None]}\n",
    "\n",
    "# Perform GridSearchCV with cross-validation\n",
    "grid_search = GridSearchCV(RandomForestClassifier(random_state=42), param_grid, cv=5, scoring='accuracy')\n",
    "grid_search.fit(X_train, y_train)\n",
    "\n",
    "# Print best parameters\n",
    "print(\"Best Parameters:\", grid_search.best_params_)\n"
   ]
  },
  {
   "cell_type": "code",
   "execution_count": 121,
   "id": "46540f5e-ea8b-4af6-b3dc-8d132f392edd",
   "metadata": {},
   "outputs": [],
   "source": [
    "min_samples = min(X_train.shape[0], y_train.shape[0])\n",
    "X_train = X_train[:min_samples, :]\n",
    "y_train = y_train[:min_samples]\n"
   ]
  },
  {
   "cell_type": "code",
   "execution_count": 107,
   "id": "4c27a828-ee68-4a10-b29b-7e2fab95d7e4",
   "metadata": {},
   "outputs": [],
   "source": [
    "column_names = ['F1', 'F2', 'F3', 'F4', 'F5', 'F6', 'F7', 'F8', 'F9', 'F10']\n",
    "X_train_df = pd.DataFrame(X_train, columns=column_names)\n"
   ]
  },
  {
   "cell_type": "code",
   "execution_count": 137,
   "id": "b3d2b589-ad8d-480d-9c8e-074f93a44522",
   "metadata": {
    "scrolled": true
   },
   "outputs": [
    {
     "name": "stdout",
     "output_type": "stream",
     "text": [
      "Selected Features: Index(['F2014', 'F2016', 'F2017', 'F2018', 'F2019'], dtype='object')\n"
     ]
    }
   ],
   "source": [
    "# Feature Selection\n",
    "selector = SelectKBest(score_func=f_classif, k=5)\n",
    "X_new = selector.fit_transform(X, y)\n",
    "selected_features = X.columns[selector.get_support()]\n",
    "print(\"Selected Features:\", selected_features)"
   ]
  },
  {
   "cell_type": "code",
   "execution_count": 110,
   "id": "8da9e8db-5e78-4f75-9ebf-35f8061f8612",
   "metadata": {},
   "outputs": [
    {
     "name": "stdout",
     "output_type": "stream",
     "text": [
      "Final Model Performance:\n",
      "Test MSE: 45.9663851368258\n",
      "Test R-squared: 0.9983077200639418\n"
     ]
    }
   ],
   "source": [
    "### Final model performance ###\n",
    "from sklearn.ensemble import RandomForestRegressor\n",
    "from sklearn.metrics import mean_squared_error, r2_score\n",
    "from sklearn.model_selection import train_test_split\n",
    "\n",
    "# Assuming 'selected_features' contains the relevant features from your dataset\n",
    "selected_features = ['F2010', 'F2011', 'F2012', 'F2013', 'F2014', 'F2015', \n",
    "                     'F2016', 'F2017', 'F2018', 'F2019', 'F2021', 'F2022']\n",
    "\n",
    "# Extract features (X) and target (y)\n",
    "X = df[selected_features].values\n",
    "y = df['F2020'].values  # Target variable (e.g., 'F2020')\n",
    "\n",
    "# Ensure y is 1D\n",
    "y = y.ravel()\n",
    "\n",
    "# Train-test split for final model\n",
    "X_train_selected, X_test_selected, y_train, y_test = train_test_split(X, y, test_size=0.2, random_state=42)\n",
    "\n",
    "rf_final_model = RandomForestRegressor(\n",
    "    n_estimators=grid_search.best_params_['n_estimators'],\n",
    "    max_depth=grid_search.best_params_['max_depth'],\n",
    "    random_state=42\n",
    ")\n",
    "\n",
    "rf_final_model.fit(X_train_selected, y_train)\n",
    "\n",
    "final_pred = rf_final_model.predict(X_test_selected)\n",
    "\n",
    "print(\"Final Model Performance:\")\n",
    "print(\"Test MSE:\", mean_squared_error(y_test, final_pred))\n",
    "print(\"Test R-squared:\", r2_score(y_test, final_pred))\n"
   ]
  },
  {
   "cell_type": "code",
   "execution_count": null,
   "id": "6044f23f-96b5-492c-9d0a-93f4dce1b05b",
   "metadata": {},
   "outputs": [],
   "source": []
  },
  {
   "cell_type": "code",
   "execution_count": null,
   "id": "b5b056b8-9d8c-423f-91ca-8a75c01f01b0",
   "metadata": {},
   "outputs": [],
   "source": []
  },
  {
   "cell_type": "code",
   "execution_count": null,
   "id": "6b00451e-1aa3-4fb8-bb49-af9aaeba3ce8",
   "metadata": {},
   "outputs": [],
   "source": []
  }
 ],
 "metadata": {
  "kernelspec": {
   "display_name": "Python 3 (ipykernel)",
   "language": "python",
   "name": "python3"
  },
  "language_info": {
   "codemirror_mode": {
    "name": "ipython",
    "version": 3
   },
   "file_extension": ".py",
   "mimetype": "text/x-python",
   "name": "python",
   "nbconvert_exporter": "python",
   "pygments_lexer": "ipython3",
   "version": "3.13.2"
  }
 },
 "nbformat": 4,
 "nbformat_minor": 5
}
